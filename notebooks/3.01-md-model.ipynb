{
 "cells": [
  {
   "cell_type": "code",
   "execution_count": 23,
   "id": "b0ca2ab4-593c-42a0-b30f-8e0d96175fbe",
   "metadata": {},
   "outputs": [],
   "source": [
    "# Importing necessary libraries\n",
    "import pandas as pd\n",
    "import numpy as np\n",
    "\n",
    "# Importing scikit-learn modules for machine learning tasks\n",
    "from sklearn.metrics import accuracy_score, confusion_matrix, classification_report\n",
    "from sklearn.impute import SimpleImputer\n",
    "from sklearn.preprocessing import StandardScaler, LabelEncoder, OneHotEncoder\n",
    "from sklearn.model_selection import train_test_split\n",
    "from sklearn.compose import ColumnTransformer\n",
    "from sklearn.pipeline import Pipeline\n",
    "\n",
    "# Import machine learning models\n",
    "from sklearn.linear_model import LogisticRegression\n",
    "from sklearn.tree import DecisionTreeClassifier\n",
    "from sklearn.ensemble import RandomForestClassifier\n",
    "from sklearn.neighbors import KNeighborsClassifier\n",
    "from sklearn.svm import SVC"
   ]
  },
  {
   "cell_type": "code",
   "execution_count": 24,
   "id": "12b9fb32-23a5-4945-b7a0-9e695bc4fb8d",
   "metadata": {},
   "outputs": [],
   "source": [
    "# Load the data\n",
    "data = pd.read_csv('../data/processed/data_processed.csv')"
   ]
  },
  {
   "cell_type": "code",
   "execution_count": 25,
   "id": "8ffeb6b1-d3e5-4906-a304-f705498cf251",
   "metadata": {},
   "outputs": [],
   "source": [
    "#Feature and target variables\n",
    "X_cat = ['formation']\n",
    "X_num = data.drop(labels=['date',\n",
    "                          'round',\n",
    "                          'result',\n",
    "                          'gf',\n",
    "                          'ga',\n",
    "                          'opponent',\n",
    "                          'formation',\n",
    "                          'season',\n",
    "                          'team',\n",
    "                          'gdiff',\n",
    "                          'xgdiff',\n",
    "                          'points',\n",
    "                          'exppoints'],\n",
    "                          axis=1\n",
    "                 ).columns\n",
    "\n",
    "y = data['result']"
   ]
  },
  {
   "cell_type": "code",
   "execution_count": 26,
   "id": "cd198a62-a44f-40f8-afca-33b85ac481c5",
   "metadata": {},
   "outputs": [],
   "source": [
    "# Encode categorical variables\n",
    "cat_pipeline = Pipeline(steps=[\n",
    "    ('imputer', SimpleImputer(strategy='most_frequent')),\n",
    "    ('onehot', OneHotEncoder(handle_unknown='ignore'))\n",
    "])"
   ]
  },
  {
   "cell_type": "code",
   "execution_count": 27,
   "id": "62aab8c8-322d-43a4-8c6e-b824c0217b52",
   "metadata": {},
   "outputs": [],
   "source": [
    "# Scale numerical varaibles\n",
    "num_pipeline = Pipeline(steps=[\n",
    "    ('imputer', SimpleImputer(strategy='mean')),\n",
    "    ('scaler', StandardScaler())\n",
    "])"
   ]
  },
  {
   "cell_type": "code",
   "execution_count": 28,
   "id": "140300fd-5f61-47b5-aecf-9f6fc1b0d2cd",
   "metadata": {},
   "outputs": [],
   "source": [
    "# Combine both pipelines for categorical and numerical features\n",
    "preprocessor = ColumnTransformer(\n",
    "    transformers=[\n",
    "        ('cat', cat_pipeline, X_cat),\n",
    "        ('num', num_pipeline, X_num)\n",
    "    ])"
   ]
  },
  {
   "cell_type": "code",
   "execution_count": 29,
   "id": "91615ef1-675d-4317-b9f6-0b2b82f4b751",
   "metadata": {},
   "outputs": [],
   "source": [
    "# Split the data into training and testing sets\n",
    "X = data.drop(labels=['date',\n",
    "                      'round',\n",
    "                      'result',\n",
    "                      'gf',\n",
    "                      'ga',\n",
    "                      'opponent',\n",
    "                      'season',\n",
    "                      'team',\n",
    "                      'gdiff',\n",
    "                      'xgdiff',\n",
    "                      'points',\n",
    "                      'exppoints'],\n",
    "                      axis=1\n",
    "             )\n",
    "\n",
    "X_train, X_test, y_train, y_test = train_test_split(X, y, test_size=0.2, random_state=42)"
   ]
  },
  {
   "cell_type": "code",
   "execution_count": 30,
   "id": "36164cf1-1647-468f-96e9-91e76485bd47",
   "metadata": {},
   "outputs": [],
   "source": [
    "# Encode target variable\n",
    "label_encoder = LabelEncoder()\n",
    "y_train = label_encoder.fit_transform(y_train)\n",
    "y_test = label_encoder.transform(y_test)"
   ]
  },
  {
   "cell_type": "code",
   "execution_count": 31,
   "id": "15973916-9811-4352-96e5-a96f66a67fd6",
   "metadata": {},
   "outputs": [],
   "source": [
    "# Initialize different classifiers for evaluation\n",
    "models = {\n",
    "    'LogisticRegression': LogisticRegression(C=0.1),\n",
    "    'DecisionTreeClassifier': DecisionTreeClassifier(max_depth=5),\n",
    "    'RandomForestClassifier': RandomForestClassifier(n_estimators=100, max_depth=5),\n",
    "    'KNeighborsClassifier': KNeighborsClassifier(n_neighbors=5),\n",
    "    'SVC': SVC(C=0.1)\n",
    "}\n"
   ]
  },
  {
   "cell_type": "code",
   "execution_count": 32,
   "id": "ece44d20-8900-4f37-8c14-dad29209c016",
   "metadata": {},
   "outputs": [],
   "source": [
    "# Create function able to run through the models\n",
    "def model_function(models, X_train, y_train, X_test, y_test):\n",
    "    \n",
    "    \"\"\"\n",
    "    Create ML models with the given parameters\n",
    "\n",
    "        Iterate through different classifiers provided in the dictionary\n",
    "    \n",
    "            Create a pipeline for each model\n",
    "        \n",
    "            Fit the model\n",
    "            \n",
    "            Predict on test data\n",
    "        \n",
    "            Compute accuraccy\n",
    "        \n",
    "            Append results to the DataFrame\n",
    "    \n",
    "        Sort by accuracy\n",
    "    \"\"\"\n",
    "    \n",
    "    models_comparison = pd.DataFrame(columns=['Model', 'Accuracy'])\n",
    "    for name, model in models.items():\n",
    "\n",
    "        pipeline = Pipeline(steps=[\n",
    "            ('preprocessor', preprocessor),\n",
    "            ('classifier', model)\n",
    "        ])\n",
    "    \n",
    "        pipeline.fit(X_train, y_train)\n",
    "    \n",
    "        y_pred = pipeline.predict(X_test)\n",
    "    \n",
    "        acc = accuracy_score(y_test, y_pred)\n",
    "        \n",
    "        models_comparison = pd.concat([models_comparison, pd.DataFrame({'Model': [name], 'Accuracy': [acc]})])\n",
    "    \n",
    "    models_comparison = models_comparison.sort_values(by='Accuracy', ascending=False).reset_index(drop=True)\n",
    "    \n",
    "    return models_comparison"
   ]
  },
  {
   "cell_type": "code",
   "execution_count": 33,
   "id": "44213caa-f0f5-4462-b6b4-2edbbec581d3",
   "metadata": {},
   "outputs": [
    {
     "name": "stderr",
     "output_type": "stream",
     "text": [
      "C:\\Users\\matid\\AppData\\Local\\Temp\\ipykernel_9408\\1001709039.py:36: FutureWarning: The behavior of DataFrame concatenation with empty or all-NA entries is deprecated. In a future version, this will no longer exclude empty or all-NA columns when determining the result dtypes. To retain the old behavior, exclude the relevant entries before the concat operation.\n",
      "  models_comparison = pd.concat([models_comparison, pd.DataFrame({'Model': [name], 'Accuracy': [acc]})])\n"
     ]
    },
    {
     "name": "stdout",
     "output_type": "stream",
     "text": [
      "                    Model  Accuracy\n",
      "0      LogisticRegression  0.713158\n",
      "1                     SVC  0.713158\n",
      "2  RandomForestClassifier  0.703947\n",
      "3  DecisionTreeClassifier  0.682895\n",
      "4    KNeighborsClassifier  0.677632\n"
     ]
    }
   ],
   "source": [
    "#Display the results\n",
    "model_results = model_function(models, X_train, y_train, X_test, y_test)\n",
    "print(model_results)"
   ]
  }
 ],
 "metadata": {
  "kernelspec": {
   "display_name": "Python 3 (ipykernel)",
   "language": "python",
   "name": "python3"
  },
  "language_info": {
   "codemirror_mode": {
    "name": "ipython",
    "version": 3
   },
   "file_extension": ".py",
   "mimetype": "text/x-python",
   "name": "python",
   "nbconvert_exporter": "python",
   "pygments_lexer": "ipython3",
   "version": "3.12.4"
  }
 },
 "nbformat": 4,
 "nbformat_minor": 5
}
