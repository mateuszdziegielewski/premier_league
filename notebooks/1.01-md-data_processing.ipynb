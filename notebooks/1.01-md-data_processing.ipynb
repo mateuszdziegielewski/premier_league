{
 "cells": [
  {
   "cell_type": "code",
   "execution_count": 1,
   "id": "ae0caf64-2d71-47d8-804d-e88c4d81924c",
   "metadata": {},
   "outputs": [],
   "source": [
    "# Importing necessary libraries\n",
    "import pandas as pd\n",
    "import numpy as np"
   ]
  },
  {
   "cell_type": "code",
   "execution_count": 2,
   "id": "aa81865e-647a-46a2-b47a-aff2c6ba4160",
   "metadata": {},
   "outputs": [],
   "source": [
    "# Load the data\n",
    "data = pd.read_csv('../data/interim/data_clean.csv')"
   ]
  },
  {
   "cell_type": "code",
   "execution_count": 3,
   "id": "19e42e43-4e01-4242-971a-4b7a5224a098",
   "metadata": {},
   "outputs": [],
   "source": [
    "# Create new columns for various performance metrics like goal difference, shot accuracy, etc.\n",
    "data['gdiff'] = data['gf'] - data['ga']  # Goal difference\n",
    "data['xgdiff'] = data['xg'] - data['xga']  # Expected goal difference\n",
    "data['sacc'] = data['sot'] / data['sh']  # Shot accuracy\n",
    "data['shtconv'] = data['gf'] / data['sh']  # Shot conversion rate\n",
    "data['sotconv'] = data['gf'] / data['sot']  # Shot on target conversion rate\n",
    "data['pconv'] = data['pk'] / data['pkatt']  # Penalty conversion rate\n",
    "data['epr'] = data['xg'] / data['poss']  # Efficient possession ratio"
   ]
  },
  {
   "cell_type": "code",
   "execution_count": 4,
   "id": "e2fa8495-2bb7-4fd4-a2df-4158fa4c7d00",
   "metadata": {},
   "outputs": [],
   "source": [
    "# Handle division by zero in some of the ratio columns\n",
    "ratios = ['sacc', 'shtconv', 'sotconv', 'pconv']\n",
    "\n",
    "for ratio in data[ratios]:\n",
    "    data[ratio] = data[ratio].replace(np.inf, np.nan)"
   ]
  },
  {
   "cell_type": "code",
   "execution_count": 5,
   "id": "2644ff50-c614-413e-ba1c-387ec3bf2111",
   "metadata": {},
   "outputs": [],
   "source": [
    "# Add 'points' column\n",
    "points = []\n",
    "\n",
    "for result in data['result']:\n",
    "    if result == 'W':\n",
    "        points.append(3)\n",
    "    elif result == 'D':\n",
    "        points.append(1)\n",
    "    else:\n",
    "        points.append(0)\n",
    "\n",
    "data['points'] = points"
   ]
  },
  {
   "cell_type": "code",
   "execution_count": 6,
   "id": "ce182a8e-d166-4045-9db3-f695f385e5c6",
   "metadata": {},
   "outputs": [],
   "source": [
    "# Create 'expected points' measure based on expected goals for and against\n",
    "exppoints = []\n",
    "\n",
    "for diff in round(data['xgdiff'], 0):\n",
    "    if diff > 0: \n",
    "        exppoints.append(3)\n",
    "    elif diff == 0 :\n",
    "        exppoints.append(1)\n",
    "    else:\n",
    "        exppoints.append(0)\n",
    "\n",
    "data['exppoints'] = exppoints"
   ]
  },
  {
   "cell_type": "code",
   "execution_count": 7,
   "id": "dcc3d592-0b1d-45d2-a338-2c85710608d6",
   "metadata": {},
   "outputs": [],
   "source": [
    "# Calculate points over the last 5 games and store in 'last_5' column\n",
    "data['last_5'] = data['points'].transform(lambda x: x.rolling(5, min_periods=1).sum())"
   ]
  },
  {
   "cell_type": "code",
   "execution_count": 8,
   "id": "22d0ebf1-e73f-449f-bbd4-3323ea3e5ee9",
   "metadata": {},
   "outputs": [],
   "source": [
    "#Export DataFrame to a csv file\n",
    "data.to_csv('../data/processed/data_processed.csv', index=False)"
   ]
  }
 ],
 "metadata": {
  "kernelspec": {
   "display_name": "Python 3 (ipykernel)",
   "language": "python",
   "name": "python3"
  },
  "language_info": {
   "codemirror_mode": {
    "name": "ipython",
    "version": 3
   },
   "file_extension": ".py",
   "mimetype": "text/x-python",
   "name": "python",
   "nbconvert_exporter": "python",
   "pygments_lexer": "ipython3",
   "version": "3.12.4"
  }
 },
 "nbformat": 4,
 "nbformat_minor": 5
}
